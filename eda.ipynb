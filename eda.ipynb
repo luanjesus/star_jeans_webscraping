{
 "cells": [
  {
   "attachments": {},
   "cell_type": "markdown",
   "metadata": {},
   "source": [
    "# EDA - Exploratory Data Analysis\n",
    "\n",
    "**BUSINESS PROBLEM**\n",
    "\n",
    "1. What is the best selling price for each pants model?\n",
    "2. How many types of pants and colors does H&M?\n",
    "3. What are the necessary raw materials for making these pants the comparing with the main competitor?"
   ]
  },
  {
   "attachments": {},
   "cell_type": "markdown",
   "metadata": {},
   "source": [
    "## 0.0. Imports"
   ]
  },
  {
   "cell_type": "code",
   "execution_count": 86,
   "metadata": {},
   "outputs": [],
   "source": [
    "import numpy as np\n",
    "import pandas as pd\n",
    "import seaborn as sns\n",
    "import functions_db as fdb\n",
    "\n",
    "from matplotlib            import pyplot as plt\n"
   ]
  },
  {
   "attachments": {},
   "cell_type": "markdown",
   "metadata": {},
   "source": [
    "## 0.1. Data Collection"
   ]
  },
  {
   "cell_type": "code",
   "execution_count": 9,
   "metadata": {},
   "outputs": [
    {
     "name": "stdout",
     "output_type": "stream",
     "text": [
      "Connection done on database_hm \n",
      "Select Done\n"
     ]
    },
    {
     "data": {
      "text/html": [
       "<div>\n",
       "<style scoped>\n",
       "    .dataframe tbody tr th:only-of-type {\n",
       "        vertical-align: middle;\n",
       "    }\n",
       "\n",
       "    .dataframe tbody tr th {\n",
       "        vertical-align: top;\n",
       "    }\n",
       "\n",
       "    .dataframe thead th {\n",
       "        text-align: right;\n",
       "    }\n",
       "</style>\n",
       "<table border=\"1\" class=\"dataframe\">\n",
       "  <thead>\n",
       "    <tr style=\"text-align: right;\">\n",
       "      <th></th>\n",
       "      <th>product_id</th>\n",
       "      <th>product_name</th>\n",
       "      <th>product_department</th>\n",
       "      <th>product_category</th>\n",
       "      <th>product_fit</th>\n",
       "      <th>product_model</th>\n",
       "      <th>product_price</th>\n",
       "      <th>product_pieces</th>\n",
       "      <th>price_per_pieces</th>\n",
       "      <th>color_name</th>\n",
       "      <th>...</th>\n",
       "      <th>lyocell_sheel</th>\n",
       "      <th>polyester_sheel</th>\n",
       "      <th>rayon_sheel</th>\n",
       "      <th>spandex_sheel</th>\n",
       "      <th>cotton_pck_lining</th>\n",
       "      <th>polyester_pck_lining</th>\n",
       "      <th>size_number_cm</th>\n",
       "      <th>size_model</th>\n",
       "      <th>start_scrapy</th>\n",
       "      <th>end_scrapy</th>\n",
       "    </tr>\n",
       "  </thead>\n",
       "  <tbody>\n",
       "    <tr>\n",
       "      <th>222</th>\n",
       "      <td>0811993048</td>\n",
       "      <td>regular_jeans</td>\n",
       "      <td>men</td>\n",
       "      <td>jeans</td>\n",
       "      <td>regular</td>\n",
       "      <td>regular</td>\n",
       "      <td>34.99</td>\n",
       "      <td>1</td>\n",
       "      <td>34.99</td>\n",
       "      <td>dark_blue</td>\n",
       "      <td>...</td>\n",
       "      <td>0.0</td>\n",
       "      <td>0.0</td>\n",
       "      <td>0.0</td>\n",
       "      <td>0.02</td>\n",
       "      <td>0.35</td>\n",
       "      <td>0.65</td>\n",
       "      <td>180</td>\n",
       "      <td>33/32</td>\n",
       "      <td>2023-02-18 13:30:02</td>\n",
       "      <td>2023-02-18 13:31:48</td>\n",
       "    </tr>\n",
       "    <tr>\n",
       "      <th>228</th>\n",
       "      <td>0875105037</td>\n",
       "      <td>relaxed_jeans</td>\n",
       "      <td>men</td>\n",
       "      <td>jeans</td>\n",
       "      <td>relaxed</td>\n",
       "      <td>relaxed</td>\n",
       "      <td>39.99</td>\n",
       "      <td>1</td>\n",
       "      <td>39.99</td>\n",
       "      <td>black</td>\n",
       "      <td>...</td>\n",
       "      <td>0.0</td>\n",
       "      <td>0.0</td>\n",
       "      <td>0.0</td>\n",
       "      <td>0.00</td>\n",
       "      <td>0.35</td>\n",
       "      <td>0.65</td>\n",
       "      <td>187</td>\n",
       "      <td>31/32</td>\n",
       "      <td>2023-02-18 13:30:02</td>\n",
       "      <td>2023-02-18 13:31:48</td>\n",
       "    </tr>\n",
       "    <tr>\n",
       "      <th>67</th>\n",
       "      <td>1114023003</td>\n",
       "      <td>loose_jeans</td>\n",
       "      <td>men</td>\n",
       "      <td>jeans</td>\n",
       "      <td>loose</td>\n",
       "      <td>loose</td>\n",
       "      <td>44.99</td>\n",
       "      <td>1</td>\n",
       "      <td>44.99</td>\n",
       "      <td>cream</td>\n",
       "      <td>...</td>\n",
       "      <td>0.0</td>\n",
       "      <td>0.0</td>\n",
       "      <td>0.0</td>\n",
       "      <td>0.00</td>\n",
       "      <td>0.35</td>\n",
       "      <td>0.65</td>\n",
       "      <td>183</td>\n",
       "      <td>31/32</td>\n",
       "      <td>2023-02-18 05:28:27</td>\n",
       "      <td>2023-02-18 05:30:58</td>\n",
       "    </tr>\n",
       "    <tr>\n",
       "      <th>80</th>\n",
       "      <td>0979945031</td>\n",
       "      <td>loose_jeans</td>\n",
       "      <td>men</td>\n",
       "      <td>jeans</td>\n",
       "      <td>loose</td>\n",
       "      <td>loose</td>\n",
       "      <td>39.99</td>\n",
       "      <td>1</td>\n",
       "      <td>39.99</td>\n",
       "      <td>white</td>\n",
       "      <td>...</td>\n",
       "      <td>0.0</td>\n",
       "      <td>0.0</td>\n",
       "      <td>0.0</td>\n",
       "      <td>0.00</td>\n",
       "      <td>1.00</td>\n",
       "      <td>0.00</td>\n",
       "      <td>180</td>\n",
       "      <td>38/32</td>\n",
       "      <td>2023-02-18 05:28:27</td>\n",
       "      <td>2023-02-18 05:30:58</td>\n",
       "    </tr>\n",
       "    <tr>\n",
       "      <th>14</th>\n",
       "      <td>1119482005</td>\n",
       "      <td>loose_jeans</td>\n",
       "      <td>men</td>\n",
       "      <td>jeans</td>\n",
       "      <td>loose</td>\n",
       "      <td>loose</td>\n",
       "      <td>44.99</td>\n",
       "      <td>1</td>\n",
       "      <td>44.99</td>\n",
       "      <td>dark_denim_blue</td>\n",
       "      <td>...</td>\n",
       "      <td>0.0</td>\n",
       "      <td>0.0</td>\n",
       "      <td>0.0</td>\n",
       "      <td>0.00</td>\n",
       "      <td>0.35</td>\n",
       "      <td>0.65</td>\n",
       "      <td>188</td>\n",
       "      <td>31/32</td>\n",
       "      <td>2023-02-18 05:28:27</td>\n",
       "      <td>2023-02-18 05:30:58</td>\n",
       "    </tr>\n",
       "  </tbody>\n",
       "</table>\n",
       "<p>5 rows × 22 columns</p>\n",
       "</div>"
      ],
      "text/plain": [
       "     product_id   product_name product_department product_category  \\\n",
       "222  0811993048  regular_jeans                men            jeans   \n",
       "228  0875105037  relaxed_jeans                men            jeans   \n",
       "67   1114023003    loose_jeans                men            jeans   \n",
       "80   0979945031    loose_jeans                men            jeans   \n",
       "14   1119482005    loose_jeans                men            jeans   \n",
       "\n",
       "    product_fit product_model  product_price  product_pieces  \\\n",
       "222     regular       regular          34.99               1   \n",
       "228     relaxed       relaxed          39.99               1   \n",
       "67        loose         loose          44.99               1   \n",
       "80        loose         loose          39.99               1   \n",
       "14        loose         loose          44.99               1   \n",
       "\n",
       "     price_per_pieces       color_name  ...  lyocell_sheel  polyester_sheel  \\\n",
       "222             34.99        dark_blue  ...            0.0              0.0   \n",
       "228             39.99            black  ...            0.0              0.0   \n",
       "67              44.99            cream  ...            0.0              0.0   \n",
       "80              39.99            white  ...            0.0              0.0   \n",
       "14              44.99  dark_denim_blue  ...            0.0              0.0   \n",
       "\n",
       "     rayon_sheel  spandex_sheel  cotton_pck_lining  polyester_pck_lining  \\\n",
       "222          0.0           0.02               0.35                  0.65   \n",
       "228          0.0           0.00               0.35                  0.65   \n",
       "67           0.0           0.00               0.35                  0.65   \n",
       "80           0.0           0.00               1.00                  0.00   \n",
       "14           0.0           0.00               0.35                  0.65   \n",
       "\n",
       "     size_number_cm  size_model         start_scrapy           end_scrapy  \n",
       "222             180       33/32  2023-02-18 13:30:02  2023-02-18 13:31:48  \n",
       "228             187       31/32  2023-02-18 13:30:02  2023-02-18 13:31:48  \n",
       "67              183       31/32  2023-02-18 05:28:27  2023-02-18 05:30:58  \n",
       "80              180       38/32  2023-02-18 05:28:27  2023-02-18 05:30:58  \n",
       "14              188       31/32  2023-02-18 05:28:27  2023-02-18 05:30:58  \n",
       "\n",
       "[5 rows x 22 columns]"
      ]
     },
     "execution_count": 9,
     "metadata": {},
     "output_type": "execute_result"
    }
   ],
   "source": [
    "#connection\n",
    "connection = fdb.database_conetion( 'database_hm', '/webscraping_hm/database')\n",
    "\n",
    "#query\n",
    "select_all = \"SELECT * FROM SHOWCASE_HM\"\n",
    "\n",
    "res = fdb.get_data(connection, select_all)\n",
    "\n",
    "\n",
    "columns_name=['product_id', 'product_name', 'product_department', 'product_category', 'product_fit',            \n",
    " 'product_model', 'product_price', 'product_pieces', 'price_per_pieces', 'color_name', 'cotton_sheel',\n",
    " 'elastomultiester_sheel', 'lyocell_sheel', 'polyester_sheel', 'rayon_sheel', 'spandex_sheel',\n",
    " 'cotton_pck_lining', 'polyester_pck_lining', 'size_number_cm', 'size_model', 'start_scrapy', 'end_scrapy']\n",
    "\n",
    "df_raw = pd.DataFrame(res, columns=columns_name)\n",
    "df_raw.sample(5)"
   ]
  },
  {
   "attachments": {},
   "cell_type": "markdown",
   "metadata": {},
   "source": [
    "# 1.0. Data Description"
   ]
  },
  {
   "cell_type": "code",
   "execution_count": 38,
   "metadata": {},
   "outputs": [],
   "source": [
    "df1 = df_raw.copy()"
   ]
  },
  {
   "attachments": {},
   "cell_type": "markdown",
   "metadata": {},
   "source": [
    "## 1.0. Data Dimension"
   ]
  },
  {
   "cell_type": "code",
   "execution_count": 39,
   "metadata": {},
   "outputs": [
    {
     "name": "stdout",
     "output_type": "stream",
     "text": [
      "Number of Rows: 274\n",
      "Number of Columns: 22\n",
      "\n"
     ]
    }
   ],
   "source": [
    "print(f'Number of Rows: {df1.shape[0]}')\n",
    "print(f'Number of Columns: {df1.shape[1]}')\n",
    "print(f'')"
   ]
  },
  {
   "attachments": {},
   "cell_type": "markdown",
   "metadata": {},
   "source": [
    "## 1.2. Data Types"
   ]
  },
  {
   "cell_type": "code",
   "execution_count": 40,
   "metadata": {},
   "outputs": [
    {
     "data": {
      "text/plain": [
       "product_id                 object\n",
       "product_name               object\n",
       "product_department         object\n",
       "product_category           object\n",
       "product_fit                object\n",
       "product_model              object\n",
       "product_price             float64\n",
       "product_pieces              int64\n",
       "price_per_pieces          float64\n",
       "color_name                 object\n",
       "cotton_sheel              float64\n",
       "elastomultiester_sheel    float64\n",
       "lyocell_sheel             float64\n",
       "polyester_sheel           float64\n",
       "rayon_sheel               float64\n",
       "spandex_sheel             float64\n",
       "cotton_pck_lining         float64\n",
       "polyester_pck_lining      float64\n",
       "size_number_cm             object\n",
       "size_model                 object\n",
       "start_scrapy               object\n",
       "end_scrapy                 object\n",
       "dtype: object"
      ]
     },
     "execution_count": 40,
     "metadata": {},
     "output_type": "execute_result"
    }
   ],
   "source": [
    "df1.dtypes"
   ]
  },
  {
   "cell_type": "code",
   "execution_count": 42,
   "metadata": {},
   "outputs": [
    {
     "data": {
      "text/plain": [
       "product_id                        object\n",
       "product_name                      object\n",
       "product_department                object\n",
       "product_category                  object\n",
       "product_fit                       object\n",
       "product_model                     object\n",
       "product_price                    float64\n",
       "product_pieces                     int64\n",
       "price_per_pieces                 float64\n",
       "color_name                        object\n",
       "cotton_sheel                     float64\n",
       "elastomultiester_sheel           float64\n",
       "lyocell_sheel                    float64\n",
       "polyester_sheel                  float64\n",
       "rayon_sheel                      float64\n",
       "spandex_sheel                    float64\n",
       "cotton_pck_lining                float64\n",
       "polyester_pck_lining             float64\n",
       "size_number_cm                    object\n",
       "size_model                        object\n",
       "start_scrapy              datetime64[ns]\n",
       "end_scrapy                datetime64[ns]\n",
       "dtype: object"
      ]
     },
     "execution_count": 42,
     "metadata": {},
     "output_type": "execute_result"
    }
   ],
   "source": [
    "#convert object to datetime\n",
    "df1['end_scrapy']   = pd.to_datetime( df1['end_scrapy'] )\n",
    "df1['start_scrapy'] = pd.to_datetime( df1['start_scrapy'] )\n",
    "df1.dtypes"
   ]
  },
  {
   "attachments": {},
   "cell_type": "markdown",
   "metadata": {},
   "source": [
    "## 1.3 Identification of Missing Data (NaN)\n",
    "\n",
    "It was verified that the dataset without size is always the same and has been 33 product_id. In addition, it was analyzed on the product pages and identified that the information was not really found."
   ]
  },
  {
   "cell_type": "code",
   "execution_count": 17,
   "metadata": {},
   "outputs": [
    {
     "data": {
      "text/plain": [
       "product_id                 0\n",
       "product_name               0\n",
       "product_department         0\n",
       "product_category           0\n",
       "product_fit                0\n",
       "product_model              0\n",
       "product_price              0\n",
       "product_pieces             0\n",
       "price_per_pieces           0\n",
       "color_name                 0\n",
       "cotton_sheel               0\n",
       "elastomultiester_sheel     0\n",
       "lyocell_sheel              0\n",
       "polyester_sheel            0\n",
       "rayon_sheel                0\n",
       "spandex_sheel              0\n",
       "cotton_pck_lining          0\n",
       "polyester_pck_lining       0\n",
       "size_number_cm            66\n",
       "size_model                66\n",
       "start_scrapy               0\n",
       "end_scrapy                 0\n",
       "dtype: int64"
      ]
     },
     "execution_count": 17,
     "metadata": {},
     "output_type": "execute_result"
    }
   ],
   "source": [
    "df1.isnull().sum()"
   ]
  },
  {
   "cell_type": "code",
   "execution_count": 30,
   "metadata": {},
   "outputs": [
    {
     "data": {
      "text/plain": [
       "array(['0979945003', '1008110002', '1130309002', '1130139003',\n",
       "       '1024256004', '0985159007', '1153385002', '1008549005',\n",
       "       '0979945028', '0938875007', '1096385002', '0979945023',\n",
       "       '1100162004', '1013317002', '1004199002', '1024256002',\n",
       "       '0690449064', '1132148001', '1107750002', '1004199007',\n",
       "       '0985197004', '0875105023', '0985197006', '0985197003',\n",
       "       '0993887007', '1107750001', '0811993039', '0971061006',\n",
       "       '0938875012', '0985197007', '1051644001', '1025726003',\n",
       "       '1027852002'], dtype=object)"
      ]
     },
     "execution_count": 30,
     "metadata": {},
     "output_type": "execute_result"
    }
   ],
   "source": [
    "df1['product_id'][df1['size_model'].isnull()].unique()"
   ]
  },
  {
   "cell_type": "code",
   "execution_count": 60,
   "metadata": {},
   "outputs": [
    {
     "name": "stdout",
     "output_type": "stream",
     "text": [
      "Percentage of Missing data in size_number_cm: 24.09%\n",
      "Percentage of Missing data in size_model: 24.09%\n"
     ]
    }
   ],
   "source": [
    "aux = (df1.isna().sum() / df1.shape[0])\n",
    "print(f'Percentage of Missing data in size_number_cm: {round(aux[aux > 0] * 100, 2)[0]}%')\n",
    "print(f'Percentage of Missing data in size_model: {round(aux[aux > 0] * 100, 2)[1]}%')"
   ]
  },
  {
   "attachments": {},
   "cell_type": "markdown",
   "metadata": {},
   "source": [
    "## 1.4 Replacement of Missing Data\n",
    "\n",
    "The missing variables are approximately 1/4 of the data. With that, decide not to use these variables now. But in the next step of improving the data, I will see the possibility of filling this data to take advantage of these columns."
   ]
  },
  {
   "cell_type": "code",
   "execution_count": 64,
   "metadata": {},
   "outputs": [
    {
     "data": {
      "text/plain": [
       "(274, 20)"
      ]
     },
     "execution_count": 64,
     "metadata": {},
     "output_type": "execute_result"
    }
   ],
   "source": [
    "df1 = df1.drop( columns=[ 'size_number_cm', 'size_model' ] ).dropna()\n",
    "df1.shape"
   ]
  },
  {
   "attachments": {},
   "cell_type": "markdown",
   "metadata": {},
   "source": [
    "## 1.5. Descriptive Statistics"
   ]
  },
  {
   "cell_type": "code",
   "execution_count": 112,
   "metadata": {},
   "outputs": [],
   "source": [
    "#numerical attributes\n",
    "num_attr = df1.select_dtypes( include = ['int64', 'float64' ] )\n",
    "\n",
    "#categorical attributes\n",
    "cat_attr = df1.select_dtypes( exclude = ['int64', 'float64', 'datetime64[ns]' ] )"
   ]
  },
  {
   "attachments": {},
   "cell_type": "markdown",
   "metadata": {},
   "source": [
    "### 1.5.1 Numeric Attributes"
   ]
  },
  {
   "cell_type": "code",
   "execution_count": 113,
   "metadata": {},
   "outputs": [
    {
     "data": {
      "text/html": [
       "<div>\n",
       "<style scoped>\n",
       "    .dataframe tbody tr th:only-of-type {\n",
       "        vertical-align: middle;\n",
       "    }\n",
       "\n",
       "    .dataframe tbody tr th {\n",
       "        vertical-align: top;\n",
       "    }\n",
       "\n",
       "    .dataframe thead th {\n",
       "        text-align: right;\n",
       "    }\n",
       "</style>\n",
       "<table border=\"1\" class=\"dataframe\">\n",
       "  <thead>\n",
       "    <tr style=\"text-align: right;\">\n",
       "      <th></th>\n",
       "      <th>attributes</th>\n",
       "      <th>min</th>\n",
       "      <th>max</th>\n",
       "      <th>range</th>\n",
       "      <th>mean</th>\n",
       "      <th>median</th>\n",
       "      <th>std</th>\n",
       "      <th>skew</th>\n",
       "      <th>kurtosis</th>\n",
       "    </tr>\n",
       "  </thead>\n",
       "  <tbody>\n",
       "    <tr>\n",
       "      <th>0</th>\n",
       "      <td>product_price</td>\n",
       "      <td>19.99</td>\n",
       "      <td>49.99</td>\n",
       "      <td>30.00</td>\n",
       "      <td>36.869562</td>\n",
       "      <td>39.99</td>\n",
       "      <td>7.655213</td>\n",
       "      <td>-0.435474</td>\n",
       "      <td>-0.522591</td>\n",
       "    </tr>\n",
       "    <tr>\n",
       "      <th>1</th>\n",
       "      <td>product_pieces</td>\n",
       "      <td>1.00</td>\n",
       "      <td>2.00</td>\n",
       "      <td>1.00</td>\n",
       "      <td>1.014599</td>\n",
       "      <td>1.00</td>\n",
       "      <td>0.119939</td>\n",
       "      <td>8.138745</td>\n",
       "      <td>64.711481</td>\n",
       "    </tr>\n",
       "    <tr>\n",
       "      <th>2</th>\n",
       "      <td>price_per_pieces</td>\n",
       "      <td>19.99</td>\n",
       "      <td>49.99</td>\n",
       "      <td>30.00</td>\n",
       "      <td>36.504672</td>\n",
       "      <td>39.99</td>\n",
       "      <td>7.616727</td>\n",
       "      <td>-0.428138</td>\n",
       "      <td>-0.611673</td>\n",
       "    </tr>\n",
       "    <tr>\n",
       "      <th>3</th>\n",
       "      <td>cotton_sheel</td>\n",
       "      <td>0.30</td>\n",
       "      <td>1.00</td>\n",
       "      <td>0.70</td>\n",
       "      <td>0.965839</td>\n",
       "      <td>0.99</td>\n",
       "      <td>0.080447</td>\n",
       "      <td>-4.962519</td>\n",
       "      <td>33.740997</td>\n",
       "    </tr>\n",
       "    <tr>\n",
       "      <th>4</th>\n",
       "      <td>elastomultiester_sheel</td>\n",
       "      <td>0.00</td>\n",
       "      <td>0.09</td>\n",
       "      <td>0.09</td>\n",
       "      <td>0.004234</td>\n",
       "      <td>0.00</td>\n",
       "      <td>0.018273</td>\n",
       "      <td>4.121969</td>\n",
       "      <td>15.172505</td>\n",
       "    </tr>\n",
       "    <tr>\n",
       "      <th>5</th>\n",
       "      <td>lyocell_sheel</td>\n",
       "      <td>0.00</td>\n",
       "      <td>0.55</td>\n",
       "      <td>0.55</td>\n",
       "      <td>0.004015</td>\n",
       "      <td>0.00</td>\n",
       "      <td>0.046818</td>\n",
       "      <td>11.639974</td>\n",
       "      <td>134.470507</td>\n",
       "    </tr>\n",
       "    <tr>\n",
       "      <th>6</th>\n",
       "      <td>polyester_sheel</td>\n",
       "      <td>0.00</td>\n",
       "      <td>0.21</td>\n",
       "      <td>0.21</td>\n",
       "      <td>0.013321</td>\n",
       "      <td>0.00</td>\n",
       "      <td>0.050279</td>\n",
       "      <td>3.535447</td>\n",
       "      <td>10.603012</td>\n",
       "    </tr>\n",
       "    <tr>\n",
       "      <th>7</th>\n",
       "      <td>rayon_sheel</td>\n",
       "      <td>0.00</td>\n",
       "      <td>0.15</td>\n",
       "      <td>0.15</td>\n",
       "      <td>0.004015</td>\n",
       "      <td>0.00</td>\n",
       "      <td>0.021048</td>\n",
       "      <td>5.317257</td>\n",
       "      <td>27.873723</td>\n",
       "    </tr>\n",
       "    <tr>\n",
       "      <th>8</th>\n",
       "      <td>spandex_sheel</td>\n",
       "      <td>0.00</td>\n",
       "      <td>0.02</td>\n",
       "      <td>0.02</td>\n",
       "      <td>0.008577</td>\n",
       "      <td>0.01</td>\n",
       "      <td>0.007435</td>\n",
       "      <td>0.236294</td>\n",
       "      <td>-1.165132</td>\n",
       "    </tr>\n",
       "    <tr>\n",
       "      <th>9</th>\n",
       "      <td>cotton_pck_lining</td>\n",
       "      <td>0.00</td>\n",
       "      <td>1.00</td>\n",
       "      <td>1.00</td>\n",
       "      <td>0.439927</td>\n",
       "      <td>0.35</td>\n",
       "      <td>0.338281</td>\n",
       "      <td>0.719075</td>\n",
       "      <td>-0.718131</td>\n",
       "    </tr>\n",
       "    <tr>\n",
       "      <th>10</th>\n",
       "      <td>polyester_pck_lining</td>\n",
       "      <td>0.00</td>\n",
       "      <td>1.00</td>\n",
       "      <td>1.00</td>\n",
       "      <td>0.414088</td>\n",
       "      <td>0.65</td>\n",
       "      <td>0.332659</td>\n",
       "      <td>-0.387424</td>\n",
       "      <td>-1.721205</td>\n",
       "    </tr>\n",
       "  </tbody>\n",
       "</table>\n",
       "</div>"
      ],
      "text/plain": [
       "                attributes    min    max  range       mean  median       std  \\\n",
       "0            product_price  19.99  49.99  30.00  36.869562   39.99  7.655213   \n",
       "1           product_pieces   1.00   2.00   1.00   1.014599    1.00  0.119939   \n",
       "2         price_per_pieces  19.99  49.99  30.00  36.504672   39.99  7.616727   \n",
       "3             cotton_sheel   0.30   1.00   0.70   0.965839    0.99  0.080447   \n",
       "4   elastomultiester_sheel   0.00   0.09   0.09   0.004234    0.00  0.018273   \n",
       "5            lyocell_sheel   0.00   0.55   0.55   0.004015    0.00  0.046818   \n",
       "6          polyester_sheel   0.00   0.21   0.21   0.013321    0.00  0.050279   \n",
       "7              rayon_sheel   0.00   0.15   0.15   0.004015    0.00  0.021048   \n",
       "8            spandex_sheel   0.00   0.02   0.02   0.008577    0.01  0.007435   \n",
       "9        cotton_pck_lining   0.00   1.00   1.00   0.439927    0.35  0.338281   \n",
       "10    polyester_pck_lining   0.00   1.00   1.00   0.414088    0.65  0.332659   \n",
       "\n",
       "         skew    kurtosis  \n",
       "0   -0.435474   -0.522591  \n",
       "1    8.138745   64.711481  \n",
       "2   -0.428138   -0.611673  \n",
       "3   -4.962519   33.740997  \n",
       "4    4.121969   15.172505  \n",
       "5   11.639974  134.470507  \n",
       "6    3.535447   10.603012  \n",
       "7    5.317257   27.873723  \n",
       "8    0.236294   -1.165132  \n",
       "9    0.719075   -0.718131  \n",
       "10  -0.387424   -1.721205  "
      ]
     },
     "execution_count": 113,
     "metadata": {},
     "output_type": "execute_result"
    }
   ],
   "source": [
    "# Measures of central tendency (mean and median)\n",
    "t1 = pd.DataFrame( num_attr.apply( np.mean ) ).T\n",
    "t2 = pd.DataFrame( num_attr.apply( np.median ) ).T\n",
    "\n",
    "# Dispersion measure - std, min, max, range, skew, kurtosis\n",
    "d1 = pd.DataFrame( num_attr.apply( np.std ) ).T\n",
    "d2 = pd.DataFrame( num_attr.apply( np.min ) ).T\n",
    "d3 = pd.DataFrame( num_attr.apply( np.max ) ).T\n",
    "d4 = pd.DataFrame( num_attr.apply( lambda x: x.max() - x.min() ) ).T\n",
    "d5 = pd.DataFrame( num_attr.apply( lambda x: x.skew() ) ).T\n",
    "d6 = pd.DataFrame( num_attr.apply( lambda x: x.kurtosis() ) ).T\n",
    "\n",
    "#concat\n",
    "m1 = pd.concat( [ d2, d3, d4, t1, t2, d1, d5, d6 ] ).T.reset_index()\n",
    "m1.columns = [ 'attributes', 'min', 'max', 'range', 'mean', 'median', 'std', 'skew', 'kurtosis']\n",
    "m1"
   ]
  },
  {
   "attachments": {},
   "cell_type": "markdown",
   "metadata": {},
   "source": [
    "### 1.5.2 Categorical Attributes"
   ]
  },
  {
   "cell_type": "code",
   "execution_count": 114,
   "metadata": {},
   "outputs": [
    {
     "data": {
      "text/plain": [
       "product_id            140\n",
       "product_name           22\n",
       "product_department      1\n",
       "product_category        2\n",
       "product_fit             5\n",
       "product_model           8\n",
       "color_name             29\n",
       "dtype: int64"
      ]
     },
     "execution_count": 114,
     "metadata": {},
     "output_type": "execute_result"
    }
   ],
   "source": [
    "cat_attr.apply( lambda x: x.unique().shape[0])"
   ]
  },
  {
   "cell_type": "code",
   "execution_count": 146,
   "metadata": {},
   "outputs": [
    {
     "data": {
      "text/plain": [
       "<AxesSubplot: xlabel='product_fit', ylabel='price_per_pieces'>"
      ]
     },
     "execution_count": 146,
     "metadata": {},
     "output_type": "execute_result"
    },
    {
     "data": {
      "image/png": "[encoded data removed]",
      "text/plain": [
       "<Figure size 1800x800 with 2 Axes>"
      ]
     },
     "metadata": {},
     "output_type": "display_data"
    }
   ],
   "source": [
    "plt.figure(figsize=(18,8))\n",
    "plt.subplot( 1, 2, 1 )\n",
    "sns.boxplot( x='product_category', y='price_per_pieces', data=df1 )\n",
    "\n",
    "plt.subplot( 1, 2, 2 )\n",
    "sns.boxplot( x='product_fit', y='price_per_pieces', data=df1 )\n"
   ]
  },
  {
   "cell_type": "code",
   "execution_count": 150,
   "metadata": {},
   "outputs": [
    {
     "data": {
      "image/png": "[encoded data removed]",
      "text/plain": [
       "<Figure size 1800x600 with 1 Axes>"
      ]
     },
     "metadata": {},
     "output_type": "display_data"
    }
   ],
   "source": [
    "plt.figure(figsize=(18,6))\n",
    "sns.boxplot( x='product_model', y='price_per_pieces', data=df1 );"
   ]
  },
  {
   "cell_type": "code",
   "execution_count": 166,
   "metadata": {},
   "outputs": [
    {
     "data": {
      "image/png": "[encoded data removed]",
      "text/plain": [
       "<Figure size 1800x600 with 1 Axes>"
      ]
     },
     "metadata": {},
     "output_type": "display_data"
    }
   ],
   "source": [
    "#aux = df1[(df1['color_name'].sum() >= 10) ]\n",
    "plt.figure(figsize=(18,6))\n",
    "sns.barplot( x='price_per_pieces', y='color_name', data=df1 );"
   ]
  },
  {
   "attachments": {},
   "cell_type": "markdown",
   "metadata": {},
   "source": [
    "# 2.0. Hypothesis (In progress)"
   ]
  },
  {
   "attachments": {},
   "cell_type": "markdown",
   "metadata": {},
   "source": [
    "## 2.1. Slim and skinny fit jeans are more popular than loose and relaxed fit jeans."
   ]
  },
  {
   "attachments": {},
   "cell_type": "markdown",
   "metadata": {},
   "source": [
    "## 2.2. The most popular category of men's pants is jeans, with trousers being less popular.\n"
   ]
  },
  {
   "attachments": {},
   "cell_type": "markdown",
   "metadata": {},
   "source": [
    "## 2.3. Dark colours are the most popular for jeans, while light colours are more popular for trousers.\n"
   ]
  },
  {
   "attachments": {},
   "cell_type": "markdown",
   "metadata": {},
   "source": [
    "## 2.4. Men's jeans with unique compositions, are cheaper than products with more than one."
   ]
  },
  {
   "attachments": {},
   "cell_type": "markdown",
   "metadata": {},
   "source": [
    "## 2.5. The pricing strategy of the competitor for men's jeans is based on the product fit, with slim and skinny fit jeans being more expensive compared to loose and regular fit ## jeans."
   ]
  },
  {
   "attachments": {},
   "cell_type": "markdown",
   "metadata": {},
   "source": [
    "## 2.6. The pricing strategy of the competitor for trousers is based on the material quality and brand reputation, with higher-quality materials and well-known brands commanding higher prices."
   ]
  },
  {
   "attachments": {},
   "cell_type": "markdown",
   "metadata": {},
   "source": [
    "## 2.7. The competitor offers a wider range of colours for men's jeans compared to trousers."
   ]
  },
  {
   "attachments": {},
   "cell_type": "markdown",
   "metadata": {},
   "source": [
    "## 2.8. The competitor's pricing strategy for straight-fit jeans is based on material quality, with high-quality materials commanding higher prices compared to lower-quality materials."
   ]
  },
  {
   "attachments": {},
   "cell_type": "markdown",
   "metadata": {},
   "source": [
    "## 2.9. More than 50% of products use cotton."
   ]
  },
  {
   "attachments": {},
   "cell_type": "markdown",
   "metadata": {},
   "source": [
    "## 2.10 Products that use spandex are more expensive."
   ]
  }
 ],
 "metadata": {
  "kernelspec": {
   "display_name": "Python 3",
   "language": "python",
   "name": "python3"
  },
  "language_info": {
   "codemirror_mode": {
    "name": "ipython",
    "version": 3
   },
   "file_extension": ".py",
   "mimetype": "text/x-python",
   "name": "python",
   "nbconvert_exporter": "python",
   "pygments_lexer": "ipython3",
   "version": "3.10.7"
  },
  "orig_nbformat": 4,
  "vscode": {
   "interpreter": {
    "hash": "df95319d8ce4e1d89f5365ae10992bc1f65da593082b1d264e8f529830ec2f02"
   }
  }
 },
 "nbformat": 4,
 "nbformat_minor": 2
}
